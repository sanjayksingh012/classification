{
 "cells": [
  {
   "cell_type": "code",
   "execution_count": 1,
   "id": "ea6f43eb",
   "metadata": {},
   "outputs": [
    {
     "name": "stdout",
     "output_type": "stream",
     "text": [
      "[0 0 0 0 0 0 0 0 0 0 0 0 0 0 0 0 0 0 0 1 1 1 0 0 0 0 0 0 0 0 0 0 0 0 0 0 0\n",
      " 1 0 0 0 0 0 0 0 0 1 0 1 1 1 1 1 0 0 1 0 0 1 1 1 1 0 1 0 0 1 1 1 1 0 1 0 0\n",
      " 1 0 1 0 0 1 1 1 0 0 1 0 0 0 1 1 1 0 1 1 0 0 1 1 1 0 0 1 1 1 1 0 1 1 0 1 1\n",
      " 1 1 1 1 1 1 0 0 0 1 0 0 1 1 1 0 0 1 0 1 0 0 1 0 0 1 1 0 1 1 0 1 1 1 1 0 1\n",
      " 1 1 1 1 1 1 1 1 0 1 1 1 1 0 0 1 0 1 1 0 0 1 1 0 0 1 1 1 1 0 1 1 0 0 0 1 0\n",
      " 1 0 1 1 1 0 1 1 0 0 1 0 0 0 0 1 0 0 0 1 0 1 0 1 1 0 1 0 0 0 0 1 1 0 0 1 1\n",
      " 1 0 1 1 1 1 1 0 0 1 1 0 1 1 0 0 1 0 1 1 1 1 0 1 1 1 1 1 0 1 0 0 0 0 0 0 0\n",
      " 0 0 0 0 0 0 0 1 1 1 1 1 1 0 1 0 1 1 0 1 1 0 1 0 0 1 1 1 1 1 1 1 1 1 1 1 1\n",
      " 1 0 1 1 0 1 0 1 1 1 1 1 1 1 1 1 1 1 1 1 1 0 1 1 1 0 1 0 1 1 1 1 0 0 0 1 1\n",
      " 1 1 0 1 0 1 0 1 1 1 0 1 1 1 1 1 1 1 0 0 0 1 1 1 1 1 1 1 1 1 1 1 0 0 1 0 0\n",
      " 0 1 0 0 1 1 1 1 1 0 1 1 1 1 1 0 1 1 1 0 1 1 0 0 1 1 1 1 1 1 0 1 1 1 1 1 1\n",
      " 1 0 1 1 1 1 1 0 1 1 0 1 1 1 1 1 1 1 1 1 1 1 1 0 1 0 0 1 0 1 1 1 1 1 0 1 1\n",
      " 0 1 0 1 1 0 1 0 1 1 1 1 1 1 1 1 0 0 1 1 1 1 1 1 0 1 1 1 1 1 1 1 1 1 1 0 1\n",
      " 1 1 1 1 1 1 0 1 0 1 1 0 1 1 1 1 1 0 0 1 0 1 0 1 1 1 1 1 0 1 1 0 1 0 1 0 0\n",
      " 1 1 1 0 1 1 1 1 1 1 1 1 1 1 1 0 1 0 0 1 1 1 1 1 1 1 1 1 1 1 1 1 1 1 1 1 1\n",
      " 1 1 1 1 1 1 1 0 0 0 0 0 0 1]\n"
     ]
    }
   ],
   "source": [
    "from sklearn.datasets import load_breast_cancer\n",
    "x,y=load_breast_cancer(return_X_y=True)\n",
    "print(y)"
   ]
  },
  {
   "cell_type": "code",
   "execution_count": 2,
   "id": "04eeb02c",
   "metadata": {},
   "outputs": [],
   "source": [
    "from sklearn.model_selection import train_test_split\n",
    "x_train,x_test,y_train,y_test=train_test_split(x,y,test_size=0.3,\n",
    "                                              random_state=0)\n"
   ]
  },
  {
   "cell_type": "code",
   "execution_count": 17,
   "id": "47b716e1",
   "metadata": {},
   "outputs": [
    {
     "name": "stdout",
     "output_type": "stream",
     "text": [
      "percep :- 0.9064327485380117\n",
      "LR :- 0.9590643274853801\n",
      "SVC :- 0.9239766081871345\n",
      "DTC :- 0.9473684210526315\n",
      "KNN :- 0.9473684210526315\n",
      "GNB :- 0.9239766081871345\n",
      "percep :- 0.003987550735473633\n",
      "LR :- 0.8181521892547607\n",
      "SVC :- 0.009972572326660156\n",
      "DTC :- 0.003989458084106445\n",
      "KNN :- 0.008974075317382812\n",
      "GNB :- 0.000997781753540039\n"
     ]
    },
    {
     "data": {
      "text/plain": [
       "<BarContainer object of 6 artists>"
      ]
     },
     "execution_count": 17,
     "metadata": {},
     "output_type": "execute_result"
    },
    {
     "data": {
      "image/png": "[encoded data removed]",
      "text/plain": [
       "<Figure size 432x288 with 1 Axes>"
      ]
     },
     "metadata": {
      "needs_background": "light"
     },
     "output_type": "display_data"
    }
   ],
   "source": [
    "from sklearn.linear_model import Perceptron,LogisticRegression\n",
    "from sklearn.svm import SVC\n",
    "from sklearn.tree import DecisionTreeClassifier\n",
    "from sklearn.naive_bayes import GaussianNB\n",
    "from sklearn.neighbors import KNeighborsClassifier\n",
    "clf1=Perceptron(alpha=0.001,l1_ratio=0.2,max_iter=100)\n",
    "clf2=LogisticRegression(penalty='l2',tol=0.001,C=1.0,max_iter=10000)\n",
    "clf3=SVC(C=1.0,kernel='rbf') # linear\n",
    "clf4=DecisionTreeClassifier(criterion='gini',splitter='best',max_depth=3)\n",
    "clf5=KNeighborsClassifier(n_neighbors=5,p=2,metric='minkowski')\n",
    "clf6=GaussianNB(priors=None)\n",
    "clf=[clf1,clf2,clf3,clf4,clf5,clf6]\n",
    "clf_name=['percep','LR','SVC','DTC','KNN','GNB']\n",
    "acc={}\n",
    "T={}#\n",
    "import time#\n",
    "from sklearn.metrics import accuracy_score\n",
    "for model,model_name in zip(clf,clf_name):\n",
    "    st=time.time()#\n",
    "    model.fit(x_train,y_train)\n",
    "    pred=model.predict(x_test)\n",
    "    et=time.time()#\n",
    "    acc[model_name]=accuracy_score(pred,y_test)\n",
    "    T[model_name]=et-st#\n",
    "for i,j in acc.items():\n",
    "    print(i,':-',j)\n",
    "for i,j in T.items(): #\n",
    "    print(i,':-',j) #\n",
    "import matplotlib.pyplot as plt\n",
    "plt.bar(acc.keys(),acc.values())\n"
   ]
  },
  {
   "cell_type": "code",
   "execution_count": 33,
   "id": "a677bb00",
   "metadata": {},
   "outputs": [
    {
     "name": "stdout",
     "output_type": "stream",
     "text": [
      "RF :- 0.9532163742690059\n",
      "ET :- 0.9415204678362573\n",
      "BAG :- 0.9532163742690059\n",
      "ADA :- 0.9649122807017544\n",
      "GBC :- 0.9122807017543859\n",
      "VOTING :- 0.9473684210526315\n",
      "RF :- 0.2433488368988037\n",
      "ET :- 0.13118958473205566\n",
      "BAG :- 0.052378177642822266\n",
      "ADA :- 0.16403985023498535\n",
      "GBC :- 0.6602613925933838\n",
      "VOTING :- 1.2284619808197021\n"
     ]
    },
    {
     "data": {
      "text/plain": [
       "<BarContainer object of 6 artists>"
      ]
     },
     "execution_count": 33,
     "metadata": {},
     "output_type": "execute_result"
    },
    {
     "data": {
      "image/png": "[encoded data removed]",
      "text/plain": [
       "<Figure size 432x288 with 1 Axes>"
      ]
     },
     "metadata": {
      "needs_background": "light"
     },
     "output_type": "display_data"
    },
    {
     "data": {
      "image/png": "[encoded data removed]",
      "text/plain": [
       "<Figure size 432x288 with 1 Axes>"
      ]
     },
     "metadata": {
      "needs_background": "light"
     },
     "output_type": "display_data"
    }
   ],
   "source": [
    "# bagging\n",
    "from sklearn.neighbors import KNeighborsClassifier\n",
    "knn=KNeighborsClassifier()\n",
    "from sklearn.ensemble import RandomForestClassifier,ExtraTreesClassifier,BaggingClassifier\n",
    "clf1=RandomForestClassifier(n_estimators=100,criterion='gini',max_depth=5)\n",
    "clf2=ExtraTreesClassifier(n_estimators=100,criterion='gini',max_depth=5)\n",
    "clf3=BaggingClassifier(n_estimators=10,max_samples=1.0,max_features=1.0,\n",
    "                      bootstrap=True) #base_estimator=knn\n",
    "from sklearn.ensemble import AdaBoostClassifier,GradientBoostingClassifier\n",
    "clf4=AdaBoostClassifier(n_estimators=50,learning_rate=1.0)#base_estimator=knn\n",
    "clf5=GradientBoostingClassifier(n_estimators=50,learning_rate=1.0,max_depth=None)\n",
    "from sklearn.ensemble import VotingClassifier\n",
    "clf6=VotingClassifier(estimators=[('rf',clf1),('et',clf2),('bag',clf3),('ada',clf4),\n",
    "                                 ('gbc',clf5)], voting='soft',weights=[1,1,1,1,1])\n",
    "clf=[clf1,clf2,clf3,clf4,clf5,clf6]\n",
    "clf_name=['RF','ET','BAG','ADA','GBC','VOTING']\n",
    "acc={}\n",
    "T={}#\n",
    "import time#\n",
    "from sklearn.metrics import accuracy_score\n",
    "for model,model_name in zip(clf,clf_name):\n",
    "    st=time.time()#\n",
    "    model.fit(x_train,y_train)\n",
    "    pred=model.predict(x_test)\n",
    "    et=time.time()#\n",
    "    acc[model_name]=accuracy_score(pred,y_test)\n",
    "    T[model_name]=et-st#\n",
    "for i,j in acc.items():\n",
    "    print(i,':-',j)\n",
    "for i,j in T.items(): #\n",
    "    print(i,':-',j) #\n",
    "import matplotlib.pyplot as plt\n",
    "plt.bar(acc.keys(),acc.values())\n",
    "plt.figure()\n",
    "plt.bar(T.keys(),T.values())"
   ]
  }
 ],
 "metadata": {
  "kernelspec": {
   "display_name": "Python 3 (ipykernel)",
   "language": "python",
   "name": "python3"
  },
  "language_info": {
   "codemirror_mode": {
    "name": "ipython",
    "version": 3
   },
   "file_extension": ".py",
   "mimetype": "text/x-python",
   "name": "python",
   "nbconvert_exporter": "python",
   "pygments_lexer": "ipython3",
   "version": "3.9.7"
  }
 },
 "nbformat": 4,
 "nbformat_minor": 5
}
